{
  "nbformat": 4,
  "nbformat_minor": 0,
  "metadata": {
    "colab": {
      "name": "recommender.ipynb",
      "provenance": [],
      "collapsed_sections": [],
      "authorship_tag": "ABX9TyPlG3ZoMtxTVnCVrn6tvcNI",
      "include_colab_link": true
    },
    "kernelspec": {
      "name": "python3",
      "display_name": "Python 3"
    },
    "language_info": {
      "name": "python"
    }
  },
  "cells": [
    {
      "cell_type": "markdown",
      "metadata": {
        "id": "view-in-github",
        "colab_type": "text"
      },
      "source": [
        "<a href=\"https://colab.research.google.com/github/utsavdutta/recommender_system/blob/master/recommender.ipynb\" target=\"_parent\"><img src=\"https://colab.research.google.com/assets/colab-badge.svg\" alt=\"Open In Colab\"/></a>"
      ]
    },
    {
      "cell_type": "code",
      "execution_count": 62,
      "metadata": {
        "id": "nwNrUy8fIQOj"
      },
      "outputs": [],
      "source": [
        "!pip install -q tensorflow-recommenders\n",
        "!pip install -q --upgrade tensorflow-datasets"
      ]
    },
    {
      "cell_type": "code",
      "source": [
        "import numpy as np\n",
        "from typing import Dict, Text\n",
        "import tensorflow as tf\n",
        "import pprint\n",
        "import tensorflow_datasets as tfds\n",
        "import tensorflow_recommenders as tfrs"
      ],
      "metadata": {
        "id": "H1BZRvMRITu8"
      },
      "execution_count": 63,
      "outputs": []
    },
    {
      "cell_type": "code",
      "source": [
        "ratings = tfds.load('movielens/100k-ratings', split=\"train\")\n",
        "movies = tfds.load('movielens/100k-movies', split=\"train\")\n",
        "\n",
        "for x in ratings.take(1).as_numpy_iterator():\n",
        "  pprint.pprint(x);\n",
        "print();\n",
        "for x in movies.take(1).as_numpy_iterator():\n",
        "  pprint.pprint(x);"
      ],
      "metadata": {
        "colab": {
          "base_uri": "https://localhost:8080/"
        },
        "id": "FVowxLuRIZ5I",
        "outputId": "3cedbb58-cfb6-4d8a-b888-29f58aad3862"
      },
      "execution_count": 64,
      "outputs": [
        {
          "output_type": "stream",
          "name": "stdout",
          "text": [
            "{'bucketized_user_age': 45.0,\n",
            " 'movie_genres': array([7]),\n",
            " 'movie_id': b'357',\n",
            " 'movie_title': b\"One Flew Over the Cuckoo's Nest (1975)\",\n",
            " 'raw_user_age': 46.0,\n",
            " 'timestamp': 879024327,\n",
            " 'user_gender': True,\n",
            " 'user_id': b'138',\n",
            " 'user_occupation_label': 4,\n",
            " 'user_occupation_text': b'doctor',\n",
            " 'user_rating': 4.0,\n",
            " 'user_zip_code': b'53211'}\n",
            "\n",
            "{'movie_genres': array([4]),\n",
            " 'movie_id': b'1681',\n",
            " 'movie_title': b'You So Crazy (1994)'}\n"
          ]
        }
      ]
    },
    {
      "cell_type": "code",
      "source": [
        "tf.random.set_seed(42);\n",
        "shuffle = ratings.shuffle(100_000, seed=42, reshuffle_each_iteration=False);\n",
        "\n",
        "train = shuffle.take(80_000);\n",
        "test = shuffle.skip(80_000).take(20_000);\n",
        "\n",
        "\n",
        "# populating the vocabulary for movie_titles and user_ids \n",
        "# we need to do this so we can  map the movie_titles and user_ids into embeddings in embedding layer\n",
        "\n",
        "new_ratings = ratings.map(lambda x: {\n",
        "    \"movie_title\": x[\"movie_title\"],\n",
        "    \"user_id\": x[\"user_id\"]\n",
        "});\n",
        "new_movies = movies.map(lambda x: x[\"movie_title\"]);\n",
        "\n",
        "movies_titles = new_movies.batch(1_000);\n",
        "user_ids = new_ratings.batch(1_000_000).map(lambda x: x[\"user_id\"]);\n",
        "\n",
        "\n",
        "unique_movie_titles = np.unique(np.concatenate(list(movies_titles)));\n",
        "unique_user_ids = np.unique(np.concatenate(list(user_ids)));\n",
        "\n",
        "\n",
        "\n",
        "# unique_movie_titles[:4]\n",
        "\n"
      ],
      "metadata": {
        "id": "vUGRjW-SJtl5"
      },
      "execution_count": 73,
      "outputs": []
    },
    {
      "cell_type": "markdown",
      "source": [
        "Retreval model"
      ],
      "metadata": {
        "id": "vIkvtJl7Vz1m"
      }
    },
    {
      "cell_type": "code",
      "source": [
        "user_model = tf.keras.Sequential([tf.keras.layers.experimental.preprocessing.StringLookup(vocabulary=unique_user_ids, mask_token=None),\n",
        "tf.keras.layers.Embedding(len(unique_user_ids)+1, 64)]);\n",
        "movie_model = tf.keras.Sequential([tf.keras.layers.experimental.preprocessing.StringLookup(vocabulary=unique_movie_titles, mask_token=None),\n",
        "tf.keras.layers.Embedding(len(unique_movie_titles)+1, 64)]);\n",
        "\n",
        "# FactorizedTopK metric helps evaluate how often the true candidate is in the top k candidates for a given query\n",
        "metrics = tfrs.metrics.FactorizedTopK(new_movies.batch(128).map(movie_model), k=100); \n",
        "\n",
        "# retival task object is a wrapper that bundles together loss fn and metric computation and returns computed loss\n",
        "task = tfrs.tasks.Retrieval(metrics= metrics);"
      ],
      "metadata": {
        "id": "J2nxNUuhV2m7"
      },
      "execution_count": 66,
      "outputs": []
    },
    {
      "cell_type": "code",
      "source": [
        "class MovieLensModel(tfrs.Model):\n",
        "\n",
        "  def __init__(\n",
        "      self,\n",
        "      user_model: tf.keras.Model,\n",
        "      movie_model: tf.keras.Model,\n",
        "      task: tfrs.tasks.Retrieval):\n",
        "    super().__init__()\n",
        "\n",
        "    # Set up user and movie representations.\n",
        "    self.user_model = user_model\n",
        "    self.movie_model = movie_model\n",
        "\n",
        "    # Set up a retrieval task.\n",
        "    self.task = task\n",
        "\n",
        "  def compute_loss(self, features: Dict[Text, tf.Tensor], training=False) -> tf.Tensor:\n",
        "    # Define how the loss is computed.\n",
        "\n",
        "\n",
        "    user_embeddings = self.user_model(features[\"user_id\"])\n",
        "    positive_movie_embeddings = self.movie_model(features[\"movie_title\"])\n",
        "\n",
        "    return self.task(user_embeddings, positive_movie_embeddings);"
      ],
      "metadata": {
        "id": "cwrkXB0pekYm"
      },
      "execution_count": 67,
      "outputs": []
    },
    {
      "cell_type": "markdown",
      "source": [
        "### Fit and evaluate it.\n",
        "\n",
        "Create the model, train it, and generate predictions:"
      ],
      "metadata": {
        "id": "0PjaQHTLgxE3"
      }
    },
    {
      "cell_type": "code",
      "source": [
        "# Create a retrieval model.\n",
        "model = MovieLensModel(user_model, movie_model, task);\n",
        "model.compile(optimizer=tf.keras.optimizers.Adagrad(0.5));\n",
        "\n",
        "model.fit(new_ratings.batch(4096), epochs=3);\n",
        "\n",
        "# Use brute-force search to set up retrieval using the trained representations.\n",
        "index = tfrs.layers.factorized_top_k.BruteForce(model.user_model);\n",
        "index.index_from_dataset(new_movies.batch(100).map(lambda title: (title, model.movie_model(title))));\n",
        "\n",
        "# Get some recommendations.\n",
        "_, titles = index(np.array([\"42\"]));\n",
        "print(f\"Top 3 recommendations for user 42: {titles[0, :3]}\");\n",
        "\n",
        "\n",
        "# model = MovieLensModel(user_model, movie_model, task);\n",
        "# model.compile(optimizer=tf.keras.optimizers.Adagrad(0.5));\n",
        "\n",
        "# cached_train = train.shuffle(100_000).batch(8192).cache();\n",
        "# cached_test = test.batch(4096).cache();\n",
        "\n",
        "\n",
        "# model.fit(cached_train, epochs=2);\n",
        "\n",
        "\n",
        "\n"
      ],
      "metadata": {
        "colab": {
          "base_uri": "https://localhost:8080/"
        },
        "id": "l3RnAj9hgzF0",
        "outputId": "201da517-ff3a-4257-d212-db4dbe7adb88"
      },
      "execution_count": 80,
      "outputs": [
        {
          "output_type": "stream",
          "name": "stdout",
          "text": [
            "Epoch 1/3\n",
            "25/25 [==============================] - 78s 1s/step - factorized_top_k/top_1_categorical_accuracy: 3.3000e-04 - factorized_top_k/top_5_categorical_accuracy: 0.0048 - factorized_top_k/top_10_categorical_accuracy: 0.0122 - factorized_top_k/top_50_categorical_accuracy: 0.0836 - factorized_top_k/top_100_categorical_accuracy: 0.1731 - loss: 33279.8113 - regularization_loss: 0.0000e+00 - total_loss: 33279.8113\n",
            "Epoch 2/3\n",
            "25/25 [==============================] - 26s 1s/step - factorized_top_k/top_1_categorical_accuracy: 7.6000e-04 - factorized_top_k/top_5_categorical_accuracy: 0.0085 - factorized_top_k/top_10_categorical_accuracy: 0.0218 - factorized_top_k/top_50_categorical_accuracy: 0.1429 - factorized_top_k/top_100_categorical_accuracy: 0.2686 - loss: 30530.9643 - regularization_loss: 0.0000e+00 - total_loss: 30530.9643\n",
            "Epoch 3/3\n",
            "25/25 [==============================] - 27s 1s/step - factorized_top_k/top_1_categorical_accuracy: 6.8000e-04 - factorized_top_k/top_5_categorical_accuracy: 0.0105 - factorized_top_k/top_10_categorical_accuracy: 0.0281 - factorized_top_k/top_50_categorical_accuracy: 0.1782 - factorized_top_k/top_100_categorical_accuracy: 0.3174 - loss: 30080.2099 - regularization_loss: 0.0000e+00 - total_loss: 30080.2099\n",
            "Top 3 recommendations for user 42: [b'Rent-a-Kid (1995)' b'Just Cause (1995)' b'Aristocats, The (1970)']\n"
          ]
        }
      ]
    }
  ]
}